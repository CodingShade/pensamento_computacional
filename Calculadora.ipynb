{
  "nbformat": 4,
  "nbformat_minor": 0,
  "metadata": {
    "colab": {
      "provenance": [],
      "authorship_tag": "ABX9TyMdo6qIlqMCehi+Za+2cvrV"
    },
    "kernelspec": {
      "name": "python3",
      "display_name": "Python 3"
    },
    "language_info": {
      "name": "python"
    }
  },
  "cells": [
    {
      "cell_type": "markdown",
      "source": [
        "#Calculadora simples em python:\n",
        "\n",
        "- +, -, *, /"
      ],
      "metadata": {
        "id": "xj9lCotSmO_4"
      }
    },
    {
      "cell_type": "code",
      "source": [
        "import math"
      ],
      "metadata": {
        "id": "-gvaObu-w0sh"
      },
      "execution_count": 11,
      "outputs": []
    },
    {
      "cell_type": "code",
      "execution_count": 19,
      "metadata": {
        "id": "LdxIJV_wiQL9"
      },
      "outputs": [],
      "source": [
        "def soma(a, b):\n",
        "  return a + b\n",
        "\n",
        "def sub(a, b):\n",
        "  return a - b\n",
        "\n",
        "def mult(a, b):\n",
        "  return a * b\n",
        "\n",
        "def divi(a, b):\n",
        "  return a / b\n",
        "\n",
        "def pot(a, b):\n",
        "  return math.pow(a, b)\n",
        "\n",
        "def raiz(a, b):\n",
        "  return math.pow(b, 1/a)\n",
        "\n",
        "def DIV(a, b):\n",
        "  return a // b\n",
        "\n",
        "def MOD(a, b):\n",
        "  return math.fmod(a, b)"
      ]
    },
    {
      "cell_type": "code",
      "source": [
        "while True:\n",
        "  operacao = input(\"digite + para a soma, - para subtração, * para multiplicação e / para divisão, ** para potencia, // para raiz, DIV para divisão inteira, MOD para resto da divisão ou s para sair\")\n",
        "\n",
        "  if(operacao == \"s\"):\n",
        "    break\n",
        "\n",
        "  a = float(input(\"Digite o primeiro valor:\"))\n",
        "  b = float(input(\"Digite o segundo valor:\"))\n",
        "\n",
        "  if(operacao == \"+\"):\n",
        "    print(f\"O resultado da soma de {a} e {b} é: {soma(a, b)}\")\n",
        "    soma(a, b)\n",
        "  elif(operacao == \"-\"):\n",
        "    print(f\"O resultado da sub de {a} e {b} é: {sub(a, b)}\")\n",
        "    sub(a, b)\n",
        "  elif(operacao == \"*\"):\n",
        "    print(f\"O resultado da multiplicação de {a} e {b} é: {mult(a, b)}\")\n",
        "    mult(a, b)\n",
        "  elif(operacao == \"/\"):\n",
        "    if(b == 0):\n",
        "      print(\"Divisão por zero, digite novamente.\")\n",
        "    else:\n",
        "      print(f\"O resultado da divisão de {a} e {b} é: {divi(a, b)}\")\n",
        "      divi(a, b)\n",
        "  elif(operacao == \"**\"):\n",
        "    print(f\"O resultado da potencia de {a} e {b} é: {pot(a, b)}\")\n",
        "    pot(a, b)\n",
        "  elif(operacao == \"//\"):\n",
        "    print(f\"O resultado da raiz de {a} e {b} é: {raiz(a, b)}\")\n",
        "    raiz(a, b)\n",
        "  elif(operacao == \"DIV\"):\n",
        "    print(f\"O resultado da DIV de {a} e {b} é: {DIV(a, b)}\")\n",
        "    DIV(a, b)\n",
        "  elif(operacao == \"MOD\"):\n",
        "    print(f\"O resultado da MOD de {a} e {b} é: {MOD(a, b)}\")\n",
        "    MOD(a, b)\n",
        "  else:\n",
        "    print(\"Comando invalido!\")\n",
        "\n"
      ],
      "metadata": {
        "colab": {
          "base_uri": "https://localhost:8080/"
        },
        "id": "DKz9XBt5m_8I",
        "outputId": "48436cbc-824d-428f-ba25-59a8fb80be2c"
      },
      "execution_count": 20,
      "outputs": [
        {
          "name": "stdout",
          "output_type": "stream",
          "text": [
            "digite + para a soma, - para subtração, * para multiplicação e / para divisão, ** para potencia, // para raiz, DIV para divisão inteira, MOD para resto da divisão ou s para sairMOD\n",
            "Digite o primeiro valor:10\n",
            "Digite o segundo valor:5\n",
            "O resultado da MOD de 10.0 e 5.0 é: 0.0\n",
            "digite + para a soma, - para subtração, * para multiplicação e / para divisão, ** para potencia, // para raiz, DIV para divisão inteira, MOD para resto da divisão ou s para sairs\n"
          ]
        }
      ]
    },
    {
      "cell_type": "markdown",
      "source": [],
      "metadata": {
        "id": "9mV0ayv4w6BH"
      }
    }
  ]
}