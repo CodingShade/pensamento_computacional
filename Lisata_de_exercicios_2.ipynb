{
  "nbformat": 4,
  "nbformat_minor": 0,
  "metadata": {
    "colab": {
      "provenance": [],
      "authorship_tag": "ABX9TyM7XTiaoSIUxg7c/Wwa5LIV",
      "include_colab_link": true
    },
    "kernelspec": {
      "name": "python3",
      "display_name": "Python 3"
    },
    "language_info": {
      "name": "python"
    }
  },
  "cells": [
    {
      "cell_type": "markdown",
      "metadata": {
        "id": "view-in-github",
        "colab_type": "text"
      },
      "source": [
        "<a href=\"https://colab.research.google.com/github/CodingShade/pensamento_computacional/blob/main/Lisata_de_exercicios_2.ipynb\" target=\"_parent\"><img src=\"https://colab.research.google.com/assets/colab-badge.svg\" alt=\"Open In Colab\"/></a>"
      ]
    },
    {
      "cell_type": "code",
      "execution_count": null,
      "metadata": {
        "colab": {
          "base_uri": "https://localhost:8080/"
        },
        "id": "gWfiS7zieuZO",
        "outputId": "3817f8d1-9976-44b5-9aa1-7eeddb3d2dd9"
      },
      "outputs": [
        {
          "output_type": "stream",
          "name": "stdout",
          "text": [
            "Digite seu nome: Thomas\n",
            "Digite sua idade: 23\n",
            "O Thomas é maior de idade!\n"
          ]
        }
      ],
      "source": [
        "nome = input(\"Digite seu nome: \")\n",
        "idade = int(input(\"Digite sua idade: \"))\n",
        "\n",
        "if (idade >= 18):\n",
        "  print(\"O \" + nome + \" é maior de idade!\")\n",
        "else:\n",
        "  print(\"O \" + nome + \" é menor de idade!\")"
      ]
    },
    {
      "cell_type": "markdown",
      "source": [
        "Algoritmo para detectar se uma pessoa pode votar\n"
      ],
      "metadata": {
        "id": "ryEtVcYWq_jS"
      }
    },
    {
      "cell_type": "code",
      "source": [
        "nome = input(\"Digite seu nome: \")\n",
        "idade = int(input(\"Digite sua idade: \"))\n",
        "\n",
        "if idade >= 18 and idade < 65:\n",
        "  print(nome + \" Tem voto obrigatorio!\")\n",
        "elif idade >= 16 and idade < 18 or idade >= 65:\n",
        "  print(nome + \" Tem voto opcional\")\n",
        "else:\n",
        "  print(nome + \" Não pode votar\")"
      ],
      "metadata": {
        "colab": {
          "base_uri": "https://localhost:8080/"
        },
        "id": "wrQbwoYhrGRw",
        "outputId": "89db202f-dfd9-4b6d-d6ab-50042a6c3a90"
      },
      "execution_count": null,
      "outputs": [
        {
          "output_type": "stream",
          "name": "stdout",
          "text": [
            "Digite seu nome: Thomas\n",
            "Digite sua idade: 65\n",
            "Thomas Tem voto opcional\n"
          ]
        }
      ]
    },
    {
      "cell_type": "markdown",
      "source": [
        "Laços de repetição"
      ],
      "metadata": {
        "id": "LBPxez_V0hXK"
      }
    },
    {
      "cell_type": "code",
      "source": [
        "for i in range(1,6):\n",
        "  print(\"Interação\", i,\"!\")"
      ],
      "metadata": {
        "colab": {
          "base_uri": "https://localhost:8080/"
        },
        "id": "a7NMiZYmrEnA",
        "outputId": "55ddb561-1505-485b-e3b8-2d3d0d804a1f"
      },
      "execution_count": null,
      "outputs": [
        {
          "output_type": "stream",
          "name": "stdout",
          "text": [
            "Interação 1 !\n",
            "Interação 2 !\n",
            "Interação 3 !\n",
            "Interação 4 !\n",
            "Interação 5 !\n"
          ]
        }
      ]
    },
    {
      "cell_type": "code",
      "source": [
        "cont = 0\n",
        "\n",
        "while cont < 5:\n",
        "  print(\"Interação\", cont,\"!\")\n",
        "  cont += 1"
      ],
      "metadata": {
        "colab": {
          "base_uri": "https://localhost:8080/"
        },
        "id": "6wslpw1WqGp4",
        "outputId": "5ff7c29a-74f0-4240-ab10-d122bb36ae7b"
      },
      "execution_count": null,
      "outputs": [
        {
          "output_type": "stream",
          "name": "stdout",
          "text": [
            "Interação 0 !\n",
            "Interação 1 !\n",
            "Interação 2 !\n",
            "Interação 3 !\n",
            "Interação 4 !\n"
          ]
        }
      ]
    }
  ]
}