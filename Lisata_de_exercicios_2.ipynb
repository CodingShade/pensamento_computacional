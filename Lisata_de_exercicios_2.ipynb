{
  "cells": [
    {
      "cell_type": "code",
      "execution_count": null,
      "metadata": {
        "colab": {
          "base_uri": "https://localhost:8080/"
        },
        "id": "gWfiS7zieuZO",
        "outputId": "3817f8d1-9976-44b5-9aa1-7eeddb3d2dd9"
      },
      "outputs": [
        {
          "name": "stdout",
          "output_type": "stream",
          "text": [
            "Digite seu nome: Thomas\n",
            "Digite sua idade: 23\n",
            "O Thomas é maior de idade!\n"
          ]
        }
      ],
      "source": [
        "nome = input(\"Digite seu nome: \")\n",
        "idade = int(input(\"Digite sua idade: \"))\n",
        "\n",
        "if (idade >= 18):\n",
        "  print(\"O \" + nome + \" é maior de idade!\")\n",
        "else:\n",
        "  print(\"O \" + nome + \" é menor de idade!\")"
      ]
    },
    {
      "cell_type": "markdown",
      "metadata": {
        "id": "ryEtVcYWq_jS"
      },
      "source": [
        "Algoritmo para detectar se uma pessoa pode votar\n"
      ]
    },
    {
      "cell_type": "code",
      "execution_count": null,
      "metadata": {
        "colab": {
          "base_uri": "https://localhost:8080/"
        },
        "id": "wrQbwoYhrGRw",
        "outputId": "89db202f-dfd9-4b6d-d6ab-50042a6c3a90"
      },
      "outputs": [
        {
          "name": "stdout",
          "output_type": "stream",
          "text": [
            "Digite seu nome: Thomas\n",
            "Digite sua idade: 65\n",
            "Thomas Tem voto opcional\n"
          ]
        }
      ],
      "source": [
        "nome = input(\"Digite seu nome: \")\n",
        "idade = int(input(\"Digite sua idade: \"))\n",
        "\n",
        "if idade >= 18 and idade < 65:\n",
        "  print(nome + \" Tem voto obrigatorio!\")\n",
        "elif idade >= 16 and idade < 18 or idade >= 65:\n",
        "  print(nome + \" Tem voto opcional\")\n",
        "else:\n",
        "  print(nome + \" Não pode votar\")"
      ]
    },
    {
      "cell_type": "markdown",
      "metadata": {
        "id": "LBPxez_V0hXK"
      },
      "source": [
        "Laços de repetição"
      ]
    },
    {
      "cell_type": "code",
      "execution_count": null,
      "metadata": {
        "colab": {
          "base_uri": "https://localhost:8080/"
        },
        "id": "a7NMiZYmrEnA",
        "outputId": "55ddb561-1505-485b-e3b8-2d3d0d804a1f"
      },
      "outputs": [
        {
          "name": "stdout",
          "output_type": "stream",
          "text": [
            "Interação 1 !\n",
            "Interação 2 !\n",
            "Interação 3 !\n",
            "Interação 4 !\n",
            "Interação 5 !\n"
          ]
        }
      ],
      "source": [
        "for i in range(1,6):\n",
        "  print(\"Interação\", i,\"!\")"
      ]
    },
    {
      "cell_type": "code",
      "execution_count": null,
      "metadata": {
        "colab": {
          "base_uri": "https://localhost:8080/"
        },
        "id": "6wslpw1WqGp4",
        "outputId": "5ff7c29a-74f0-4240-ab10-d122bb36ae7b"
      },
      "outputs": [
        {
          "name": "stdout",
          "output_type": "stream",
          "text": [
            "Interação 0 !\n",
            "Interação 1 !\n",
            "Interação 2 !\n",
            "Interação 3 !\n",
            "Interação 4 !\n"
          ]
        }
      ],
      "source": [
        "cont = 0\n",
        "\n",
        "while cont < 5:\n",
        "  print(\"Interação\", cont,\"!\")\n",
        "  cont += 1"
      ]
    }
  ],
  "metadata": {
    "colab": {
      "authorship_tag": "ABX9TyM7XTiaoSIUxg7c/Wwa5LIV",
      "include_colab_link": true,
      "provenance": []
    },
    "kernelspec": {
      "display_name": "Python 3",
      "name": "python3"
    },
    "language_info": {
      "name": "python"
    }
  },
  "nbformat": 4,
  "nbformat_minor": 0
}
