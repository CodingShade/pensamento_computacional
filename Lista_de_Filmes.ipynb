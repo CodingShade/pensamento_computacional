{
  "nbformat": 4,
  "nbformat_minor": 0,
  "metadata": {
    "colab": {
      "provenance": [],
      "authorship_tag": "ABX9TyNnKaO/IBWM0m06XHEOtl1+"
    },
    "kernelspec": {
      "name": "python3",
      "display_name": "Python 3"
    },
    "language_info": {
      "name": "python"
    }
  },
  "cells": [
    {
      "cell_type": "markdown",
      "source": [
        "#Entregavel - 08\n",
        "- Até 100 filmes\n",
        "- Notas entre 0..0 e 10.0\n",
        "- Funções para média das notas e para imprimir as informações"
      ],
      "metadata": {
        "id": "BAoH7AcXARjv"
      }
    },
    {
      "cell_type": "code",
      "execution_count": 1,
      "metadata": {
        "colab": {
          "base_uri": "https://localhost:8080/"
        },
        "id": "Plmt6hbg_Jwe",
        "outputId": "5e4745f1-f196-4079-bfc4-5feecfca026e"
      },
      "outputs": [
        {
          "output_type": "stream",
          "name": "stdout",
          "text": [
            "Digite o nome do filme: Duna\n",
            "Digite a nota para 'Duna' (0.0 a 10.0): 10\n",
            "Deseja cadastrar outro filme? (s/n): s\n",
            "Digite o nome do filme: Forrest gump\n",
            "Digite a nota para 'Forrest gump' (0.0 a 10.0): 10\n",
            "Deseja cadastrar outro filme? (s/n): n\n",
            "\n",
            "--- Filmes Cadastrados ---\n",
            "Duna — Nota: 10.0\n",
            "Forrest gump — Nota: 10.0\n",
            "\n",
            "Nota média dos filmes: 10.00\n"
          ]
        }
      ],
      "source": [
        "def cadastrar_filmes():\n",
        "    filmes = []\n",
        "    notas = []\n",
        "    capacidade_maxima = 1000\n",
        "\n",
        "    while len(filmes) < capacidade_maxima:\n",
        "        nome = input(\"Digite o nome do filme: \").strip()\n",
        "\n",
        "        if nome.lower() in (f.lower() for f in filmes):\n",
        "            print(\"Este filme já foi cadastrado. Tente outro.\")\n",
        "            continue\n",
        "\n",
        "        while True:\n",
        "            try:\n",
        "                nota = float(input(f\"Digite a nota para '{nome}' (0.0 a 10.0): \"))\n",
        "                if 0.0 <= nota <= 10.0:\n",
        "                    break\n",
        "                else:\n",
        "                    print(\"A nota deve estar entre 0.0 e 10.0.\")\n",
        "            except ValueError:\n",
        "                print(\"Por favor, digite uma nota válida (ex: 8.5).\")\n",
        "\n",
        "        filmes.append(nome)\n",
        "        notas.append(nota)\n",
        "\n",
        "        continuar = input(\"Deseja cadastrar outro filme? (s/n): \").strip().lower()\n",
        "        if continuar != 's':\n",
        "            break\n",
        "\n",
        "    return filmes, notas\n",
        "\n",
        "def mostrar_filmes(filmes, notas):\n",
        "    print(\"\\n--- Filmes Cadastrados ---\")\n",
        "    for i in range(len(filmes)):\n",
        "        print(f\"{filmes[i]} — Nota: {notas[i]}\")\n",
        "\n",
        "def calcular_media(notas):\n",
        "    if len(notas) == 0:\n",
        "        return 0.0\n",
        "    return sum(notas) / len(notas)\n",
        "\n",
        "def main():\n",
        "    filmes, notas = cadastrar_filmes()\n",
        "    mostrar_filmes(filmes, notas)\n",
        "\n",
        "    media = calcular_media(notas)\n",
        "    print(f\"\\nNota média dos filmes: {media:.2f}\")\n",
        "\n",
        "if __name__ == \"__main__\":\n",
        "    main()\n"
      ]
    }
  ]
}