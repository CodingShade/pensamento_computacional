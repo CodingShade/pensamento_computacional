{
  "nbformat": 4,
  "nbformat_minor": 0,
  "metadata": {
    "colab": {
      "provenance": [],
      "authorship_tag": "ABX9TyMDCLoaecoNgtAiQd8zu5hQ",
      "include_colab_link": true
    },
    "kernelspec": {
      "name": "python3",
      "display_name": "Python 3"
    },
    "language_info": {
      "name": "python"
    }
  },
  "cells": [
    {
      "cell_type": "markdown",
      "metadata": {
        "id": "view-in-github",
        "colab_type": "text"
      },
      "source": [
        "<a href=\"https://colab.research.google.com/github/CodingShade/pensamento_computacional/blob/main/Lista_de_exercicios.ipynb\" target=\"_parent\"><img src=\"https://colab.research.google.com/assets/colab-badge.svg\" alt=\"Open In Colab\"/></a>"
      ]
    },
    {
      "cell_type": "markdown",
      "source": [
        "Lista de Exercicios: Comando de entrada e saida Python"
      ],
      "metadata": {
        "id": "JWIwI6PH8jPe"
      }
    },
    {
      "cell_type": "markdown",
      "source": [
        "Bibliotecas:"
      ],
      "metadata": {
        "id": "gplpVNzq-8De"
      }
    },
    {
      "cell_type": "code",
      "source": [
        "import math"
      ],
      "metadata": {
        "id": "Cpwo3t9f-_sd"
      },
      "execution_count": null,
      "outputs": []
    },
    {
      "cell_type": "markdown",
      "source": [],
      "metadata": {
        "id": "QVC8Es2c-_MG"
      }
    },
    {
      "cell_type": "markdown",
      "source": [
        "1. Faça em Python um algoritmo que leia um número inteiro qualquer. O algoritmo deve calcular e escrever o\n",
        "quadrado, a raiz quadrada, e a divisão do quadrado pela raiz quadrada do número lido."
      ],
      "metadata": {
        "id": "1vgzOd0h9LcO"
      }
    },
    {
      "cell_type": "code",
      "execution_count": null,
      "metadata": {
        "colab": {
          "base_uri": "https://localhost:8080/"
        },
        "id": "P4-7NVrV76XV",
        "outputId": "b5a8475e-8fd1-45ec-eadb-8fa7d29a681c"
      },
      "outputs": [
        {
          "output_type": "stream",
          "name": "stdout",
          "text": [
            "INFORME UM NÚMERO INTEIRO QUALQUER: 16\n",
            "O QUADRADO DE  16  É:  256\n",
            "A RAIZ QUADRADA DE  16  É:  4.0\n",
            " A DIVISÃO DE  256  POR  4.0  É:  64.0\n"
          ]
        }
      ],
      "source": [
        "\n",
        "n = int(input(\"INFORME UM NÚMERO INTEIRO QUALQUER: \"))\n",
        "qua = n**2\n",
        "print(\"O QUADRADO DE \", n ,\" É: \",qua)\n",
        "rq = math.sqrt(n)\n",
        "print(\"A RAIZ QUADRADA DE \", n ,\" É: \", rq)\n",
        "div_qua_ra = qua/rq\n",
        "print(\" A DIVISÃO DE \", qua , \" POR \", rq, \" É: \", div_qua_ra)"
      ]
    },
    {
      "cell_type": "markdown",
      "source": [
        "2. Faça em Python um algoritmo que calcule e escreva o preço final de um computador, sendo fornecido o\n",
        "preço de fábrica. O preço final do computador é calculado com base nos adicionais de: 30 % de imposto e\n",
        "10 % de revenda sobre o preço de fábrica."
      ],
      "metadata": {
        "id": "gum4aaFXBkmx"
      }
    },
    {
      "cell_type": "code",
      "source": [
        "\n",
        "IMPOSTO = 30\n",
        "REVENDA = 10\n",
        "\n",
        "p_fab = float(input(\"INFORME O PREÇO DE FÁBRICA DO COMPUTADOR\"))\n",
        "imp = p_fab * IMPOSTO/100\n",
        "rev = p_fab * REVENDA/100\n",
        "p_final = p_fab+imp+rev\n",
        "print(\"O PREÇO FINAL DO COMPUTADOR É R$ \", p_final)"
      ],
      "metadata": {
        "colab": {
          "base_uri": "https://localhost:8080/"
        },
        "id": "qNNo3uqF9N7u",
        "outputId": "e96851cb-6a55-4175-d84d-ed602db80b4e"
      },
      "execution_count": null,
      "outputs": [
        {
          "output_type": "stream",
          "name": "stdout",
          "text": [
            "INFORME O PREÇO DE FÁBRICA DO COMPUTADOR1000\n",
            "O PREÇO FINAL DO COMPUTADOR É R$  1400.0\n"
          ]
        }
      ]
    },
    {
      "cell_type": "markdown",
      "source": [
        "3. Faça um algoritmo em Python que leia três números inteiros e calcule a sua média. Ao final, o algoritmo\n",
        "deve escrever os números lidos e o resultado da média.\n"
      ],
      "metadata": {
        "id": "iLYdXZlVCo7w"
      }
    },
    {
      "cell_type": "code",
      "source": [
        "num1 = int(input(\"Digite o primeiro numero: \"))\n",
        "num2 = int(input(\"Digite o segundo numero: \"))\n",
        "num3 = int(input(\"Digite o terceiro numero: \"))\n",
        "\n",
        "media = (num1+num2+num3) / 3\n",
        "print(\"Os numeros digitados são: \", num1, num2, num3, \"e a media é:\", media)"
      ],
      "metadata": {
        "colab": {
          "base_uri": "https://localhost:8080/"
        },
        "id": "8wDpx091Cqro",
        "outputId": "8749fae3-1e1d-4ca0-a008-4a2703897464"
      },
      "execution_count": null,
      "outputs": [
        {
          "output_type": "stream",
          "name": "stdout",
          "text": [
            "Digite o primeiro numero: 7\n",
            "Digite o segundo numero: 8\n",
            "Digite o terceiro numero: 5\n",
            "Os numeros digitados são:  7 8 5 e a media é: 6.666666666666667\n"
          ]
        }
      ]
    },
    {
      "cell_type": "markdown",
      "source": [
        "4. Fazer um algoritmo em Python que calcule o número de litros de combustível gastos em uma viagem,\n",
        "sabendo-se que o carro faz 12 km com um litro. Deverão ser lidos o tempo gasto na viagem e a velocidade\n",
        "média. Aplicar as seguintes fórmulas:\n",
        "- Distância = tempo gasto x velocidade média\n",
        "- litros gastos = distância / 12"
      ],
      "metadata": {
        "id": "fE-JSh4X8iGG"
      }
    },
    {
      "cell_type": "code",
      "source": [
        " tempo = float(input(\"Qual o tempo gasto na viagem: \"))\n",
        " velocidade = float(input(\"Qual a velocidade: \"))\n",
        "\n",
        " dist = tempo * velocidade\n",
        " litros = dist / 12\n",
        " print(litros)"
      ],
      "metadata": {
        "colab": {
          "base_uri": "https://localhost:8080/"
        },
        "id": "ZNSQHzZnFeck",
        "outputId": "236352c0-6960-4304-cac8-45083bba56e3"
      },
      "execution_count": null,
      "outputs": [
        {
          "output_type": "stream",
          "name": "stdout",
          "text": [
            "Qual o tempo gasto na viagem: 12\n",
            "Qual a velocidade: 50\n",
            "50.0\n"
          ]
        }
      ]
    },
    {
      "cell_type": "markdown",
      "source": [
        "5. Faça em Python um algoritmo que leia dois números inteiros (x e y), e calcule o quociente e o resto da\n",
        "divisão de x por y e escreva os resultados."
      ],
      "metadata": {
        "id": "OvQKvTJ2FdFs"
      }
    },
    {
      "cell_type": "code",
      "source": [
        "x = int(input(\"digite o primeiro numero: \"))\n",
        "y = int(input(\"digite o segundo numero: \"))\n",
        "div = x // y\n",
        "mod = x % y\n",
        "print(div)\n",
        "print(mod)"
      ],
      "metadata": {
        "colab": {
          "base_uri": "https://localhost:8080/"
        },
        "id": "Ur_o2sVPHwDC",
        "outputId": "0a45c0cc-daba-4bdf-a771-c8ea5e22e3a7"
      },
      "execution_count": null,
      "outputs": [
        {
          "output_type": "stream",
          "name": "stdout",
          "text": [
            "digite o primeiro numero: 12\n",
            "digite o segundo numero: 60\n",
            "0\n",
            "12\n"
          ]
        }
      ]
    },
    {
      "cell_type": "markdown",
      "source": [
        "6. Escreva em python um algoritmo que leia três números reais (a, b, c), e calcule a média aritmética. Após\n",
        "os cálculos, os resultados deverão ser escritos."
      ],
      "metadata": {
        "id": "6pni_uCTHexy"
      }
    },
    {
      "cell_type": "code",
      "source": [
        "a = int(input(\"Escreva o primeiro numero: \"))\n",
        "a = int(input(\"Escreva o segundo numero: \"))\n",
        "a = int(input(\"Escreva o primeiro numero: \"))"
      ],
      "metadata": {
        "id": "w1CIIWTEJe5Y"
      },
      "execution_count": null,
      "outputs": []
    },
    {
      "cell_type": "markdown",
      "source": [
        "7. Uma loja de equipamentos de informática resolveu incentivar os seus funcionários a venderem no mês\n",
        "março. Para cada produto vendido, a loja dará uma bonificação de 1%, sobre o salário do funcionário.\n",
        "Desta forma, o funcionário que vender 10 produtos, terá um acréscimo de 10% em seu salário. Faça um\n",
        "algoritmo em Python que leia o código, o nome e o salário fixo do funcionário, além do número de\n",
        "produtos vendidos por ele no mês, e calcule o salário final do funcionário. Por fim, o algoritmo deve\n",
        "escrever o código e o nome do funcionário, juntamente com o seu salário final."
      ],
      "metadata": {
        "id": "HVYciUMzHhXy"
      }
    },
    {
      "cell_type": "code",
      "source": [
        "nome = input(\"Digite seu nome: \")\n",
        "salario = float(input(\"Digitie seu salario: \"))\n",
        "prod = int(input(\"digite quantos produtos você vendeu: \"))\n",
        "\n",
        "sal_final = salario + prod * salario/100\n",
        "print(nome,\",Seu salario final é de: R$\",sal_final)"
      ],
      "metadata": {
        "colab": {
          "base_uri": "https://localhost:8080/"
        },
        "id": "D5ku_pMCEhQ9",
        "outputId": "ed399ed2-f0d2-4cfd-84c6-9f7a050b4fcd"
      },
      "execution_count": null,
      "outputs": [
        {
          "output_type": "stream",
          "name": "stdout",
          "text": [
            "Digite seu nome: Thomas\n",
            "Digitie seu salario: 1000\n",
            "digite quantos produtos você vendeu: 10\n",
            "Thomas ,Seu salario final é de: R$ 1100.0\n"
          ]
        }
      ]
    },
    {
      "cell_type": "markdown",
      "source": [
        "8. Construa um algoritmo em Python que calcule a quantidade de latas de tintas necessárias e o custo para\n",
        "pintar tanques cilíndricos de combustível, onde são fornecidos a altura e o raio deste cilindro. Sabendo\n",
        "que:\n",
        "● a lata de tinta custa R$ 150,00\n",
        "● cada lata contém 5 litros;\n",
        "● cada litro de tinta pinta 3 metros quadrados;\n",
        "● a área do total cilindro é dada por área da base + área lateral;\n",
        "● a área da base do cilindro é dada π*raio\n",
        "2\n",
        "● a área da lateral é 2*π*raio*altura.\n",
        "● Lembrando que π (pi) vale 3,14."
      ],
      "metadata": {
        "id": "Uj1dYWMNHjdb"
      }
    },
    {
      "cell_type": "code",
      "source": [
        "import math\n",
        "\n",
        "def calcular_tinta_para_cilindro(raio, altura):\n",
        "    PI = 3.14\n",
        "    CUSTO_LATA = 150.00\n",
        "    LITROS_POR_LATA = 5\n",
        "    RENDIMENTO_LITRO = 3\n",
        "\n",
        "    area_base = PI * (raio ** 2)\n",
        "    area_lateral = 2 * PI * raio * altura\n",
        "    area_total = 2 * area_base + area_lateral\n",
        "\n",
        "    litros_necessarios = area_total / RENDIMENTO_LITRO\n",
        "\n",
        "    latas_necessarias = math.ceil(litros_necessarios / LITROS_POR_LATA)\n",
        "\n",
        "    custo_total = latas_necessarias * CUSTO_LATA\n",
        "\n",
        "    return latas_necessarias, custo_total\n",
        "\n",
        "raio = float(input(\"Informe o raio do cilindro (em metros): \"))\n",
        "altura = float(input(\"Informe a altura do cilindro (em metros): \"))\n",
        "\n",
        "latas, custo = calcular_tinta_para_cilindro(raio, altura)\n",
        "print(f\"\\nLatas de tinta necessárias: {latas}\")\n",
        "print(f\"Custo total: R$ {custo:.2f}\")\n"
      ],
      "metadata": {
        "colab": {
          "base_uri": "https://localhost:8080/"
        },
        "id": "Ub5xLI6ZHY3F",
        "outputId": "dac42705-1c68-4cb1-df9f-5e87226186bb"
      },
      "execution_count": null,
      "outputs": [
        {
          "output_type": "stream",
          "name": "stdout",
          "text": [
            "Informe o raio do cilindro (em metros): 10\n",
            "Informe a altura do cilindro (em metros): 20\n",
            "\n",
            "Latas de tinta necessárias: 126\n",
            "Custo total: R$ 18900.00\n"
          ]
        }
      ]
    },
    {
      "cell_type": "markdown",
      "source": [
        "9. Elabore um algoritmo em Python para calcular e escrever o preço final de um computador, sendo\n",
        "fornecido o preço de fábrica. O preço final do computador é calculado com base nos adicionais 45 % de\n",
        "imposto e 28 % de revenda sobre o preço de fábrica."
      ],
      "metadata": {
        "id": "YJvM4vfKHkCa"
      }
    },
    {
      "cell_type": "code",
      "source": [
        "def calcular_preco_final(preco_fabrica):\n",
        "\n",
        "    imposto = 0.45\n",
        "    revenda = 0.28\n",
        "\n",
        "    valor_imposto = preco_fabrica * imposto\n",
        "    valor_revenda = preco_fabrica * revenda\n",
        "\n",
        "    preco_final = preco_fabrica + valor_imposto + valor_revenda\n",
        "\n",
        "    return preco_final\n",
        "\n",
        "preco_fabrica = float(input(\"Informe o preço de fábrica do computador (R$): \"))\n",
        "preco_final = calcular_preco_final(preco_fabrica)\n",
        "\n",
        "print(f\"\\nPreço final do computador: R$ {preco_final:.2f}\")\n"
      ],
      "metadata": {
        "id": "aozzZ9lCHxo4"
      },
      "execution_count": null,
      "outputs": []
    },
    {
      "cell_type": "markdown",
      "source": [
        "10. Uma revendedora de carros usados paga aos seus funcionários vendedores, um salário fixo por mês, mais\n",
        "uma comissão para cada carro vendido. Escreva um algoritmo em Python que leia o número do vendedor,o seu salário fixo, o número de carros por ele vendidos, e o valor que recebe por carro vendido, e calcule o\n",
        "salário mensal do vendedor, escrevendo-o juntamente com o seu número de identificação."
      ],
      "metadata": {
        "id": "6YxsEkEAHoqy"
      }
    },
    {
      "cell_type": "code",
      "source": [
        "def calcular_salario_mensal(numero_vendedor, salario_fixo, carros_vendidos, comissao_por_carro):\n",
        "\n",
        "    salario_total = salario_fixo + (carros_vendidos * comissao_por_carro)\n",
        "    return salario_total\n",
        "\n",
        "\n",
        "numero_vendedor = input(\"Informe o número de identificação do vendedor: \")\n",
        "salario_fixo = float(input(\"Informe o salário fixo do vendedor (R$): \"))\n",
        "carros_vendidos = int(input(\"Informe o número de carros vendidos: \"))\n",
        "comissao_por_carro = float(input(\"Informe o valor da comissão por carro vendido (R$): \"))\n",
        "\n",
        "salario = calcular_salario_mensal(numero_vendedor, salario_fixo, carros_vendidos, comissao_por_carro)\n",
        "\n",
        "print(f\"\\nVendedor Nº {numero_vendedor}\")\n",
        "print(f\"Salário mensal: R$ {salario:.2f}\")\n"
      ],
      "metadata": {
        "id": "o84o0mPSH7sF"
      },
      "execution_count": null,
      "outputs": []
    },
    {
      "cell_type": "markdown",
      "source": [
        "11. Uma empresa, para emitir a sua folha de pagamento mensal, trabalha com os seguintes dados:\n",
        "Relativos ao Sistema de Pagamentos\n",
        "Valor da Hora Normal = R$ 8,00\n",
        "Valor da Hora Extra = R$ 9,50\n",
        "Valor do Acréscimo por Dependente = RS 2,50\n",
        "Relativos a cada Funcionário\n",
        "Número de Identificação\n",
        "Nome\n",
        "Número de horas normais trabalhadas\n",
        "Número de horas extras trabalhadas\n",
        "Número de dependentes\n",
        "O cálculo do salário de cada funcionário é feito em 3 etapas:\n",
        "Etapa 1 : Cálculo do Salário Bruto\n",
        "SALARIO BRUTO = Valor Total de Horas Normais + Valor Total de Horas Extras + Valor Total de\n",
        "Dependentes\n",
        "Etapa 2 : Descontos\n",
        "Todos os funcionários são isentos de imposto de renda, e descontam 5% do salário bruto para o INSS.\n",
        "Etapa 3 : Salário Líquido\n",
        "SALARIO LÍQUIDO = SALARIO BRUTO - DESCONTO\n",
        "Escrever um algoritmo em Python que leia os dados referentes ao funcionário, calcule e escreva o\n",
        "salário líquido do funcionário da empresa. Obs.: Além do salário líquido, escreva o número de\n",
        "identificação e o nome do funcionário."
      ],
      "metadata": {
        "id": "YDbGtR-oHuSB"
      }
    },
    {
      "cell_type": "code",
      "source": [
        "def calcular_salario_liquido(identificacao, nome, horas_normais, horas_extras, dependentes):\n",
        "\n",
        "    VALOR_HORA_NORMAL = 8.00\n",
        "    VALOR_HORA_EXTRA = 9.50\n",
        "    VALOR_DEPENDENTE = 2.50\n",
        "    DESCONTO_INSS = 0.05\n",
        "\n",
        "    total_horas_normais = horas_normais * VALOR_HORA_NORMAL\n",
        "    total_horas_extras = horas_extras * VALOR_HORA_EXTRA\n",
        "    total_dependentes = dependentes * VALOR_DEPENDENTE\n",
        "    salario_bruto = total_horas_normais + total_horas_extras + total_dependentes\n",
        "\n",
        "    desconto_inss = salario_bruto * DESCONTO_INSS\n",
        "\n",
        "    salario_liquido = salario_bruto - desconto_inss\n",
        "\n",
        "    return salario_liquido, salario_bruto, desconto_inss\n",
        "\n",
        "identificacao = input(\"Informe o número de identificação do funcionário: \")\n",
        "nome = input(\"Informe o nome do funcionário: \")\n",
        "horas_normais = float(input(\"Informe o número de horas normais trabalhadas: \"))\n",
        "horas_extras = float(input(\"Informe o número de horas extras trabalhadas: \"))\n",
        "dependentes = int(input(\"Informe o número de dependentes: \"))\n",
        "\n",
        "sal_liquido, sal_bruto, desconto = calcular_salario_liquido(identificacao, nome, horas_normais, horas_extras, dependentes)\n",
        "\n",
        "print(\"\\n--- FOLHA DE PAGAMENTO ---\")\n",
        "print(f\"Funcionário: {nome}\")\n",
        "print(f\"ID: {identificacao}\")\n",
        "print(f\"Salário Bruto: R$ {sal_bruto:.2f}\")\n",
        "print(f\"Desconto INSS (5%): R$ {desconto:.2f}\")\n",
        "print(f\"Salário Líquido: R$ {sal_liquido:.2f}\")\n"
      ],
      "metadata": {
        "id": "yaOdmboiIHQU"
      },
      "execution_count": null,
      "outputs": []
    },
    {
      "cell_type": "code",
      "source": [],
      "metadata": {
        "id": "ET13QofIHcHj"
      },
      "execution_count": null,
      "outputs": []
    }
  ]
}