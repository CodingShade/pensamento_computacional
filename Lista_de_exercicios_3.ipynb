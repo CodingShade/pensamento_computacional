{
  "nbformat": 4,
  "nbformat_minor": 0,
  "metadata": {
    "colab": {
      "provenance": [],
      "authorship_tag": "ABX9TyPRfzz3uNAcRelZojz9ww3J"
    },
    "kernelspec": {
      "name": "python3",
      "display_name": "Python 3"
    },
    "language_info": {
      "name": "python"
    }
  },
  "cells": [
    {
      "cell_type": "markdown",
      "source": [
        "1. Faça o transcreva algoritmo a seguir:\n",
        "\"\"\"\n",
        "ALGORITMO TABUADA_9;\n",
        "VAR\n",
        "  N, X, R : INTEIRO;\n",
        "INICIO\n",
        "  PARA X DE 1 ATE 10 FACA\n",
        "    INICIO\n",
        "      R ← 9 * X;\n",
        "      ESCREVER ( X, ‘ x 9 = ’, R);\n",
        "    FIM;\n",
        "    FIM_PARA;\n",
        "FIM.\n",
        "\"\"\""
      ],
      "metadata": {
        "id": "HhLZDPpfi5uj"
      }
    },
    {
      "cell_type": "code",
      "source": [
        "for i in range(11):\n",
        "  r = 9 * i\n",
        "  print(f\"{i} x 9 = {r}\")"
      ],
      "metadata": {
        "colab": {
          "base_uri": "https://localhost:8080/"
        },
        "id": "F3oFRzRykLbW",
        "outputId": "fe466163-986f-48a5-995f-1a05564ac19e",
        "collapsed": true
      },
      "execution_count": null,
      "outputs": [
        {
          "output_type": "stream",
          "name": "stdout",
          "text": [
            "0 x 9 = 0\n",
            "1 x 9 = 9\n",
            "2 x 9 = 18\n",
            "3 x 9 = 27\n",
            "4 x 9 = 36\n",
            "5 x 9 = 45\n",
            "6 x 9 = 54\n",
            "7 x 9 = 63\n",
            "8 x 9 = 72\n",
            "9 x 9 = 81\n",
            "10 x 9 = 90\n"
          ]
        }
      ]
    },
    {
      "cell_type": "markdown",
      "source": [
        "2. Faça um programa em Python que mostre todos os números inteiros ímpares situados na faixa\n",
        "de 1000 a 1500.\n"
      ],
      "metadata": {
        "id": "Wgm7WHuPjYEG"
      }
    },
    {
      "cell_type": "code",
      "source": [
        "for x in range(1000, 1501):\n",
        "  r = x % 2\n",
        "  if(r != 0):\n",
        "    print(x)\n",
        "\n",
        "\n"
      ],
      "metadata": {
        "colab": {
          "base_uri": "https://localhost:8080/"
        },
        "collapsed": true,
        "id": "6OChtFyZlYwT",
        "outputId": "ccdd242d-77de-401c-ceec-27e657a1fb70"
      },
      "execution_count": null,
      "outputs": [
        {
          "output_type": "stream",
          "name": "stdout",
          "text": [
            "1001\n",
            "1003\n",
            "1005\n",
            "1007\n",
            "1009\n",
            "1011\n",
            "1013\n",
            "1015\n",
            "1017\n",
            "1019\n",
            "1021\n",
            "1023\n",
            "1025\n",
            "1027\n",
            "1029\n",
            "1031\n",
            "1033\n",
            "1035\n",
            "1037\n",
            "1039\n",
            "1041\n",
            "1043\n",
            "1045\n",
            "1047\n",
            "1049\n",
            "1051\n",
            "1053\n",
            "1055\n",
            "1057\n",
            "1059\n",
            "1061\n",
            "1063\n",
            "1065\n",
            "1067\n",
            "1069\n",
            "1071\n",
            "1073\n",
            "1075\n",
            "1077\n",
            "1079\n",
            "1081\n",
            "1083\n",
            "1085\n",
            "1087\n",
            "1089\n",
            "1091\n",
            "1093\n",
            "1095\n",
            "1097\n",
            "1099\n",
            "1101\n",
            "1103\n",
            "1105\n",
            "1107\n",
            "1109\n",
            "1111\n",
            "1113\n",
            "1115\n",
            "1117\n",
            "1119\n",
            "1121\n",
            "1123\n",
            "1125\n",
            "1127\n",
            "1129\n",
            "1131\n",
            "1133\n",
            "1135\n",
            "1137\n",
            "1139\n",
            "1141\n",
            "1143\n",
            "1145\n",
            "1147\n",
            "1149\n",
            "1151\n",
            "1153\n",
            "1155\n",
            "1157\n",
            "1159\n",
            "1161\n",
            "1163\n",
            "1165\n",
            "1167\n",
            "1169\n",
            "1171\n",
            "1173\n",
            "1175\n",
            "1177\n",
            "1179\n",
            "1181\n",
            "1183\n",
            "1185\n",
            "1187\n",
            "1189\n",
            "1191\n",
            "1193\n",
            "1195\n",
            "1197\n",
            "1199\n",
            "1201\n",
            "1203\n",
            "1205\n",
            "1207\n",
            "1209\n",
            "1211\n",
            "1213\n",
            "1215\n",
            "1217\n",
            "1219\n",
            "1221\n",
            "1223\n",
            "1225\n",
            "1227\n",
            "1229\n",
            "1231\n",
            "1233\n",
            "1235\n",
            "1237\n",
            "1239\n",
            "1241\n",
            "1243\n",
            "1245\n",
            "1247\n",
            "1249\n",
            "1251\n",
            "1253\n",
            "1255\n",
            "1257\n",
            "1259\n",
            "1261\n",
            "1263\n",
            "1265\n",
            "1267\n",
            "1269\n",
            "1271\n",
            "1273\n",
            "1275\n",
            "1277\n",
            "1279\n",
            "1281\n",
            "1283\n",
            "1285\n",
            "1287\n",
            "1289\n",
            "1291\n",
            "1293\n",
            "1295\n",
            "1297\n",
            "1299\n",
            "1301\n",
            "1303\n",
            "1305\n",
            "1307\n",
            "1309\n",
            "1311\n",
            "1313\n",
            "1315\n",
            "1317\n",
            "1319\n",
            "1321\n",
            "1323\n",
            "1325\n",
            "1327\n",
            "1329\n",
            "1331\n",
            "1333\n",
            "1335\n",
            "1337\n",
            "1339\n",
            "1341\n",
            "1343\n",
            "1345\n",
            "1347\n",
            "1349\n",
            "1351\n",
            "1353\n",
            "1355\n",
            "1357\n",
            "1359\n",
            "1361\n",
            "1363\n",
            "1365\n",
            "1367\n",
            "1369\n",
            "1371\n",
            "1373\n",
            "1375\n",
            "1377\n",
            "1379\n",
            "1381\n",
            "1383\n",
            "1385\n",
            "1387\n",
            "1389\n",
            "1391\n",
            "1393\n",
            "1395\n",
            "1397\n",
            "1399\n",
            "1401\n",
            "1403\n",
            "1405\n",
            "1407\n",
            "1409\n",
            "1411\n",
            "1413\n",
            "1415\n",
            "1417\n",
            "1419\n",
            "1421\n",
            "1423\n",
            "1425\n",
            "1427\n",
            "1429\n",
            "1431\n",
            "1433\n",
            "1435\n",
            "1437\n",
            "1439\n",
            "1441\n",
            "1443\n",
            "1445\n",
            "1447\n",
            "1449\n",
            "1451\n",
            "1453\n",
            "1455\n",
            "1457\n",
            "1459\n",
            "1461\n",
            "1463\n",
            "1465\n",
            "1467\n",
            "1469\n",
            "1471\n",
            "1473\n",
            "1475\n",
            "1477\n",
            "1479\n",
            "1481\n",
            "1483\n",
            "1485\n",
            "1487\n",
            "1489\n",
            "1491\n",
            "1493\n",
            "1495\n",
            "1497\n",
            "1499\n"
          ]
        }
      ]
    },
    {
      "cell_type": "markdown",
      "source": [
        "3. Elabore um programa em Python que calcule e escreva a soma de 10 números lidos.\n"
      ],
      "metadata": {
        "id": "O5oMkabsje0X"
      }
    },
    {
      "cell_type": "code",
      "source": [
        "soma = 0\n",
        "for x in range(1, 11):\n",
        "  n = float(input(f\"Digite o {x}º numero: \"))\n",
        "  soma = soma + n\n",
        "print(f\"A soma é: {soma}\")\n",
        "\n",
        "\n"
      ],
      "metadata": {
        "colab": {
          "base_uri": "https://localhost:8080/"
        },
        "id": "DnaFXr9-n2XO",
        "outputId": "6772f414-d428-4557-c108-382676bb9a99"
      },
      "execution_count": null,
      "outputs": [
        {
          "output_type": "stream",
          "name": "stdout",
          "text": [
            "Digite o 1 numero: 10\n",
            "Digite o 2 numero: 10\n",
            "Digite o 3 numero: 10\n",
            "Digite o 4 numero: 10\n",
            "Digite o 5 numero: 10\n",
            "Digite o 6 numero: 10\n",
            "Digite o 7 numero: 01\n",
            "Digite o 8 numero: 10\n",
            "Digite o 9 numero: 10\n",
            "Digite o 10 numero: 10\n",
            "A soma é: 91.0\n"
          ]
        }
      ]
    },
    {
      "cell_type": "markdown",
      "source": [
        "4. Faça um programa em Python que leia a nota de 10 alunos de uma turma. Ao final, deve ser\n",
        "escrita a média geral da turma.\n"
      ],
      "metadata": {
        "id": "AFAvActbjjLj"
      }
    },
    {
      "cell_type": "code",
      "source": [
        "notas = 0\n",
        "for x in range(1, 11):\n",
        "  n = float(input(f\"Digite a {x} nota: \"))\n",
        "  notas = notas + n\n",
        "  ma = notas/10\n",
        "print(f\"A media é: {ma}\")"
      ],
      "metadata": {
        "colab": {
          "base_uri": "https://localhost:8080/"
        },
        "collapsed": true,
        "id": "6KN6-IJVsIJZ",
        "outputId": "4a0d6439-62df-4580-e8e7-4f3344a043f1"
      },
      "execution_count": null,
      "outputs": [
        {
          "output_type": "stream",
          "name": "stdout",
          "text": [
            "Digite o 1 nota: 10\n",
            "Digite o 2 nota: 5\n",
            "Digite o 3 nota: 4\n",
            "Digite o 4 nota: 8\n",
            "Digite o 5 nota: 10\n",
            "Digite o 6 nota: 2\n",
            "Digite o 7 nota: 6\n",
            "Digite o 8 nota: 8\n",
            "Digite o 9 nota: 7\n",
            "Digite o 10 nota: 9\n",
            "A soma é: 6.9\n"
          ]
        }
      ]
    },
    {
      "cell_type": "markdown",
      "source": [
        "5. Faça um programa em Python que leia 5 números. Para cada número fornecido, escreva se\n",
        "ele é NULO, NEGATIVO ou POSITIVO."
      ],
      "metadata": {
        "id": "rgzLPRw4jkW8"
      }
    },
    {
      "cell_type": "code",
      "source": [
        "for x in range(1, 6):\n",
        "  n = float(input(f\"Digite o {x} numero: \"))\n",
        "  if(n > 0):\n",
        "    print(f\"O numero {n} é POSITIVO\")\n",
        "  elif(n < 0):\n",
        "    print(f\"O numero {n} é NEGATIVO\")\n",
        "  else:\n",
        "    print(f\"O numero {n} é NULO\")"
      ],
      "metadata": {
        "colab": {
          "base_uri": "https://localhost:8080/"
        },
        "id": "0WbFExyctIZW",
        "outputId": "fa51bde9-eef5-4d30-b769-21d131145cb3"
      },
      "execution_count": null,
      "outputs": [
        {
          "output_type": "stream",
          "name": "stdout",
          "text": [
            "Digite o 1 numero: 10\n",
            "O numero 10.0 é POSITIVO\n",
            "Digite o 2 numero: 0\n",
            "O numero 0.0 é NULO\n",
            "Digite o 3 numero: -2\n",
            "O numero -2.0 é NEGATIVO\n",
            "Digite o 4 numero: 10\n",
            "O numero 10.0 é POSITIVO\n",
            "Digite o 5 numero: -1851\n",
            "O numero -1851.0 é NEGATIVO\n"
          ]
        }
      ]
    },
    {
      "cell_type": "markdown",
      "source": [
        "6. Ler dois valores inteiros e escrever os números em sequência do menor até maior valor."
      ],
      "metadata": {
        "id": "zASvlP2Ijm88"
      }
    },
    {
      "cell_type": "code",
      "source": [
        "num1 = int(input(\"Digite o primeiro numero: \"))\n",
        "num2 = int(input(\"Digite o segundo numero: \"))\n",
        "\n",
        "if(num1 > num2):\n",
        "  print(f\"{num2} e {num1}\")\n",
        "elif(num2 > num1):\n",
        "  print(f\"{num1} e {num2}\")\n",
        "else:\n",
        "  print(\"Os dois numeros são iguais\")\n"
      ],
      "metadata": {
        "colab": {
          "base_uri": "https://localhost:8080/"
        },
        "id": "8vYS2eQUuPW8",
        "outputId": "67132760-87ca-48e2-ab8f-4b8e340df9e9"
      },
      "execution_count": null,
      "outputs": [
        {
          "output_type": "stream",
          "name": "stdout",
          "text": [
            "Digite o primeiro numero: 2\n",
            "Digite o segundo numero: 2\n",
            "Os dois numeros são iguais\n"
          ]
        }
      ]
    },
    {
      "cell_type": "markdown",
      "source": [
        "7. Faça um programa em Python que escreva os números pares entre 100 e 200."
      ],
      "metadata": {
        "id": "EmS0FXZijtpq"
      }
    },
    {
      "cell_type": "code",
      "source": [
        "for x in range(100, 201):\n",
        "  r = x % 2\n",
        "  if(r == 0):\n",
        "    print(x)"
      ],
      "metadata": {
        "id": "vvuxGJ9D1Z9x",
        "colab": {
          "base_uri": "https://localhost:8080/"
        },
        "collapsed": true,
        "outputId": "e5b73ee8-3592-459a-8ec4-97b4a29dddbe"
      },
      "execution_count": null,
      "outputs": [
        {
          "output_type": "stream",
          "name": "stdout",
          "text": [
            "100\n",
            "102\n",
            "104\n",
            "106\n",
            "108\n",
            "110\n",
            "112\n",
            "114\n",
            "116\n",
            "118\n",
            "120\n",
            "122\n",
            "124\n",
            "126\n",
            "128\n",
            "130\n",
            "132\n",
            "134\n",
            "136\n",
            "138\n",
            "140\n",
            "142\n",
            "144\n",
            "146\n",
            "148\n",
            "150\n",
            "152\n",
            "154\n",
            "156\n",
            "158\n",
            "160\n",
            "162\n",
            "164\n",
            "166\n",
            "168\n",
            "170\n",
            "172\n",
            "174\n",
            "176\n",
            "178\n",
            "180\n",
            "182\n",
            "184\n",
            "186\n",
            "188\n",
            "190\n",
            "192\n",
            "194\n",
            "196\n",
            "198\n",
            "200\n"
          ]
        }
      ]
    },
    {
      "cell_type": "markdown",
      "source": [],
      "metadata": {
        "id": "Cudn2yMujr9E"
      }
    },
    {
      "cell_type": "markdown",
      "source": [
        "8. Escrever um programa em Python que leia um valor para n, inteiro e positivo, e escreva a\n",
        "tabuada de n. Com os respectivos valores.\n",
        "\n",
        "n x 1 =\n",
        "n x 2 ="
      ],
      "metadata": {
        "id": "XhHzoPkhjxEQ"
      }
    },
    {
      "cell_type": "code",
      "source": [
        "n = int(input(\"Digite um numero: \"))\n",
        "\n",
        "for i in range(11):\n",
        "  r = n * i\n",
        "  print(f\"{i} x {n} = {r}\")"
      ],
      "metadata": {
        "colab": {
          "base_uri": "https://localhost:8080/"
        },
        "id": "dFSDlIbp2nCv",
        "outputId": "9a6335c6-d8d3-4182-daa4-3d27048199ed"
      },
      "execution_count": null,
      "outputs": [
        {
          "output_type": "stream",
          "name": "stdout",
          "text": [
            "Digite um numero: 5\n",
            "0 x 5 = 0\n",
            "1 x 5 = 5\n",
            "2 x 5 = 10\n",
            "3 x 5 = 15\n",
            "4 x 5 = 20\n",
            "5 x 5 = 25\n",
            "6 x 5 = 30\n",
            "7 x 5 = 35\n",
            "8 x 5 = 40\n",
            "9 x 5 = 45\n",
            "10 x 5 = 50\n"
          ]
        }
      ]
    },
    {
      "cell_type": "markdown",
      "source": [
        "9. Escrever um programa em Python que gera os números de 1000 a 1999 e escreve aqueles\n",
        "que divididos por 11 dão um resto igual a 5."
      ],
      "metadata": {
        "id": "-TJKDyxYjzra"
      }
    },
    {
      "cell_type": "code",
      "source": [
        "for i in range(1000, 2000):\n",
        "  r = i % 11\n",
        "  if(r == 5):\n",
        "    print(i)\n"
      ],
      "metadata": {
        "colab": {
          "base_uri": "https://localhost:8080/"
        },
        "collapsed": true,
        "id": "4zzWQRCQ3HmM",
        "outputId": "e5d7c076-48af-43c9-dc48-2cd006fd24a2"
      },
      "execution_count": null,
      "outputs": [
        {
          "output_type": "stream",
          "name": "stdout",
          "text": [
            "1006\n",
            "1017\n",
            "1028\n",
            "1039\n",
            "1050\n",
            "1061\n",
            "1072\n",
            "1083\n",
            "1094\n",
            "1105\n",
            "1116\n",
            "1127\n",
            "1138\n",
            "1149\n",
            "1160\n",
            "1171\n",
            "1182\n",
            "1193\n",
            "1204\n",
            "1215\n",
            "1226\n",
            "1237\n",
            "1248\n",
            "1259\n",
            "1270\n",
            "1281\n",
            "1292\n",
            "1303\n",
            "1314\n",
            "1325\n",
            "1336\n",
            "1347\n",
            "1358\n",
            "1369\n",
            "1380\n",
            "1391\n",
            "1402\n",
            "1413\n",
            "1424\n",
            "1435\n",
            "1446\n",
            "1457\n",
            "1468\n",
            "1479\n",
            "1490\n",
            "1501\n",
            "1512\n",
            "1523\n",
            "1534\n",
            "1545\n",
            "1556\n",
            "1567\n",
            "1578\n",
            "1589\n",
            "1600\n",
            "1611\n",
            "1622\n",
            "1633\n",
            "1644\n",
            "1655\n",
            "1666\n",
            "1677\n",
            "1688\n",
            "1699\n",
            "1710\n",
            "1721\n",
            "1732\n",
            "1743\n",
            "1754\n",
            "1765\n",
            "1776\n",
            "1787\n",
            "1798\n",
            "1809\n",
            "1820\n",
            "1831\n",
            "1842\n",
            "1853\n",
            "1864\n",
            "1875\n",
            "1886\n",
            "1897\n",
            "1908\n",
            "1919\n",
            "1930\n",
            "1941\n",
            "1952\n",
            "1963\n",
            "1974\n",
            "1985\n",
            "1996\n"
          ]
        }
      ]
    },
    {
      "cell_type": "markdown",
      "source": [
        "10. Faça um programa em Python que leia um número qualquer (N), e realize a soma dos\n",
        "números de 1 até N. Ao final, deve-se escrever o resultado."
      ],
      "metadata": {
        "id": "hP1TOCuEj2cR"
      }
    },
    {
      "cell_type": "code",
      "source": [
        "soma = 0\n",
        "n = int(input(\"Digite um numero: \"))\n",
        "for x in range(1, n + 1):\n",
        "  soma = soma + n\n",
        "print(f\"A soma dos numeros de 1 até {n} é: {soma}\")\n"
      ],
      "metadata": {
        "colab": {
          "base_uri": "https://localhost:8080/"
        },
        "id": "LThkLmeJ3qjp",
        "outputId": "d14356d5-4656-41fb-a723-ab2b512af326"
      },
      "execution_count": null,
      "outputs": [
        {
          "output_type": "stream",
          "name": "stdout",
          "text": [
            "Digite um numero: 10\n",
            "A soma dos numeros de 1 até 10 é: 100\n"
          ]
        }
      ]
    },
    {
      "cell_type": "markdown",
      "source": [
        "11. Faça um programa em Python para ler 10 valores inteiros. Para cada valor fornecido escreva\n",
        "uma mensagem que indica se cada valor fornecido é PAR ou ÍMPAR."
      ],
      "metadata": {
        "id": "DLXvJCw8j2wI"
      }
    },
    {
      "cell_type": "code",
      "source": [
        "for i in range(1, 11):\n",
        "  n = int(input(\"Digite um numero: \"))\n",
        "  r = n % 2\n",
        "  if(r == 0):11\n",
        "    print(f\"O numero {n} é PAR\")\n",
        "  else:\n",
        "    print(f\"O numero {n} é IMPAR\")"
      ],
      "metadata": {
        "colab": {
          "base_uri": "https://localhost:8080/"
        },
        "collapsed": true,
        "id": "41Xv95gP49pO",
        "outputId": "33cca105-928b-4dae-da15-de5ccd2fc467"
      },
      "execution_count": null,
      "outputs": [
        {
          "output_type": "stream",
          "name": "stdout",
          "text": [
            "Digite um numero: 10\n",
            "O numero 10 é PAR\n",
            "Digite um numero: 10\n",
            "O numero 10 é PAR\n",
            "Digite um numero: 01\n",
            "O numero 1 é IMPAR\n",
            "Digite um numero: 10\n",
            "O numero 10 é PAR\n",
            "Digite um numero: 10\n",
            "O numero 10 é PAR\n",
            "Digite um numero: 01\n",
            "O numero 1 é IMPAR\n",
            "Digite um numero: 10\n",
            "O numero 10 é PAR\n",
            "Digite um numero: 10\n",
            "O numero 10 é PAR\n",
            "Digite um numero: 10\n",
            "O numero 10 é PAR\n",
            "Digite um numero: 10\n",
            "O numero 10 é PAR\n"
          ]
        }
      ]
    },
    {
      "cell_type": "markdown",
      "source": [
        "12. Faça um programa em Python que leia a idade de 10 alunos, calcule e escreva a média de\n",
        "idade destes."
      ],
      "metadata": {
        "id": "H79N-pKgj7K4"
      }
    },
    {
      "cell_type": "code",
      "source": [
        "idade = 0\n",
        "for x in range(1, 11):\n",
        "  n = float(input(f\"Digite a idade do {x}º aluno\"))\n",
        "  idade = idade + n\n",
        "  ma = idade/10\n",
        "print(f\"A media é: {ma}\")"
      ],
      "metadata": {
        "colab": {
          "base_uri": "https://localhost:8080/"
        },
        "collapsed": true,
        "id": "WIAR37ws7mZc",
        "outputId": "54304396-dfb7-495c-ea98-9c30c7a4c522"
      },
      "execution_count": null,
      "outputs": [
        {
          "output_type": "stream",
          "name": "stdout",
          "text": [
            "Digite a idade do 1 aluno10\n",
            "Digite a idade do 2 aluno10\n",
            "Digite a idade do 3 aluno10\n",
            "Digite a idade do 4 aluno10\n",
            "Digite a idade do 5 aluno10\n",
            "Digite a idade do 6 aluno10\n",
            "Digite a idade do 7 aluno10\n",
            "Digite a idade do 8 aluno10\n",
            "Digite a idade do 9 aluno10\n",
            "Digite a idade do 10 aluno10\n",
            "A media é: 10.0\n"
          ]
        }
      ]
    },
    {
      "cell_type": "markdown",
      "source": [
        "13. Faça um algoritmo em Python que leia dois valores inteiros e escreva se eles estão em ordem\n",
        "crescente, decrescente ou são iguais, após isso escreva todos os valores do menor ao maior."
      ],
      "metadata": {
        "id": "W39vEVUKj-XB"
      }
    },
    {
      "cell_type": "code",
      "source": [
        "n1 = int(input(\"Digite o primeiro valor\"))\n",
        "n2 = int(input(\"Digite o segundo valor\"))\n",
        "\n",
        "if(n1 > n2):\n",
        "  print(f\"{n2} e {n1} estão em ordem CRESCENTE\")\n",
        "  print(f\"{n2} e {n1}\")\n",
        "elif(n2 > n1):\n",
        "  print(f\"{n2} e {n1} estão em ordem DECRESCENTE\")\n",
        "  print(f\"{n1} e {n2}\")\n",
        "else:\n",
        "  print(f\"{n1} e {n2} São iguais\")\n"
      ],
      "metadata": {
        "colab": {
          "base_uri": "https://localhost:8080/"
        },
        "id": "B42_1V3m8QFj",
        "outputId": "143180e4-56ed-4d90-de4c-b70787554a58"
      },
      "execution_count": null,
      "outputs": [
        {
          "output_type": "stream",
          "name": "stdout",
          "text": [
            "Digite o primeiro valor10\n",
            "Digite o segundo valor11\n",
            "11 e 10 estão em ordem DECRESCENTE\n",
            "10 e 11\n"
          ]
        }
      ]
    },
    {
      "cell_type": "markdown",
      "source": [
        "14. Escrever um programa em Python que lê 10 valores para n, um de cada vez, todos inteiros e\n",
        "positivos, e para cada n lido, escreva a tabuada de 1 até n de n.\n",
        "\n",
        "1 x n = n\n",
        "2 x n = 2n\n",
        "...\n",
        "n x n = n"
      ],
      "metadata": {
        "id": "DKHeQ3klkBTv"
      }
    },
    {
      "cell_type": "code",
      "execution_count": null,
      "metadata": {
        "id": "o5mOjQSOhsVb",
        "colab": {
          "base_uri": "https://localhost:8080/"
        },
        "collapsed": true,
        "outputId": "333e864c-d50f-41e0-b224-d3fca7294a58"
      },
      "outputs": [
        {
          "output_type": "stream",
          "name": "stdout",
          "text": [
            "Digite um numero: 10\n",
            "0 x 10 = 0\n",
            "1 x 10 = 10\n",
            "2 x 10 = 20\n",
            "3 x 10 = 30\n",
            "4 x 10 = 40\n",
            "5 x 10 = 50\n",
            "6 x 10 = 60\n",
            "7 x 10 = 70\n",
            "8 x 10 = 80\n",
            "9 x 10 = 90\n",
            "10 x 10 = 100\n",
            "Digite um numero: 2\n",
            "0 x 2 = 0\n",
            "1 x 2 = 2\n",
            "2 x 2 = 4\n",
            "3 x 2 = 6\n",
            "4 x 2 = 8\n",
            "5 x 2 = 10\n",
            "6 x 2 = 12\n",
            "7 x 2 = 14\n",
            "8 x 2 = 16\n",
            "9 x 2 = 18\n",
            "10 x 2 = 20\n",
            "Digite um numero: 5\n",
            "0 x 5 = 0\n",
            "1 x 5 = 5\n",
            "2 x 5 = 10\n",
            "3 x 5 = 15\n",
            "4 x 5 = 20\n",
            "5 x 5 = 25\n",
            "6 x 5 = 30\n",
            "7 x 5 = 35\n",
            "8 x 5 = 40\n",
            "9 x 5 = 45\n",
            "10 x 5 = 50\n",
            "Digite um numero: 6\n",
            "0 x 6 = 0\n",
            "1 x 6 = 6\n",
            "2 x 6 = 12\n",
            "3 x 6 = 18\n",
            "4 x 6 = 24\n",
            "5 x 6 = 30\n",
            "6 x 6 = 36\n",
            "7 x 6 = 42\n",
            "8 x 6 = 48\n",
            "9 x 6 = 54\n",
            "10 x 6 = 60\n",
            "Digite um numero: 8\n",
            "0 x 8 = 0\n",
            "1 x 8 = 8\n",
            "2 x 8 = 16\n",
            "3 x 8 = 24\n",
            "4 x 8 = 32\n",
            "5 x 8 = 40\n",
            "6 x 8 = 48\n",
            "7 x 8 = 56\n",
            "8 x 8 = 64\n",
            "9 x 8 = 72\n",
            "10 x 8 = 80\n",
            "Digite um numero: 2\n",
            "0 x 2 = 0\n",
            "1 x 2 = 2\n",
            "2 x 2 = 4\n",
            "3 x 2 = 6\n",
            "4 x 2 = 8\n",
            "5 x 2 = 10\n",
            "6 x 2 = 12\n",
            "7 x 2 = 14\n",
            "8 x 2 = 16\n",
            "9 x 2 = 18\n",
            "10 x 2 = 20\n",
            "Digite um numero: 2\n",
            "0 x 2 = 0\n",
            "1 x 2 = 2\n",
            "2 x 2 = 4\n",
            "3 x 2 = 6\n",
            "4 x 2 = 8\n",
            "5 x 2 = 10\n",
            "6 x 2 = 12\n",
            "7 x 2 = 14\n",
            "8 x 2 = 16\n",
            "9 x 2 = 18\n",
            "10 x 2 = 20\n",
            "Digite um numero: 2\n",
            "0 x 2 = 0\n",
            "1 x 2 = 2\n",
            "2 x 2 = 4\n",
            "3 x 2 = 6\n",
            "4 x 2 = 8\n",
            "5 x 2 = 10\n",
            "6 x 2 = 12\n",
            "7 x 2 = 14\n",
            "8 x 2 = 16\n",
            "9 x 2 = 18\n",
            "10 x 2 = 20\n",
            "Digite um numero: 2\n",
            "0 x 2 = 0\n",
            "1 x 2 = 2\n",
            "2 x 2 = 4\n",
            "3 x 2 = 6\n",
            "4 x 2 = 8\n",
            "5 x 2 = 10\n",
            "6 x 2 = 12\n",
            "7 x 2 = 14\n",
            "8 x 2 = 16\n",
            "9 x 2 = 18\n",
            "10 x 2 = 20\n",
            "Digite um numero: 2\n",
            "0 x 2 = 0\n",
            "1 x 2 = 2\n",
            "2 x 2 = 4\n",
            "3 x 2 = 6\n",
            "4 x 2 = 8\n",
            "5 x 2 = 10\n",
            "6 x 2 = 12\n",
            "7 x 2 = 14\n",
            "8 x 2 = 16\n",
            "9 x 2 = 18\n",
            "10 x 2 = 20\n",
            "Digite um numero: 2\n",
            "0 x 2 = 0\n",
            "1 x 2 = 2\n",
            "2 x 2 = 4\n",
            "3 x 2 = 6\n",
            "4 x 2 = 8\n",
            "5 x 2 = 10\n",
            "6 x 2 = 12\n",
            "7 x 2 = 14\n",
            "8 x 2 = 16\n",
            "9 x 2 = 18\n",
            "10 x 2 = 20\n"
          ]
        }
      ],
      "source": [
        "for i in range(1, 11):\n",
        "  n = int(input(\"Digite um numero: \"))\n",
        "\n",
        "  for i in range(1, 11):\n",
        "    r = n * i\n",
        "    print(f\"{i} x {n} = {r}\")"
      ]
    },
    {
      "cell_type": "markdown",
      "source": [
        "EXTRA: Escreva um programa para uma urna eletrônica. O programa fica lendo os votos até que o\n",
        "usuário informe o valor 4444444 (código de finalização da urna). Após a finalização da urna, o\n",
        "programa deverá escrever na tela a quantidade de votos e o percentual de votos para cada uma\n",
        "das opções abaixo:\n",
        "a. Votos no Candidato 77\n",
        "b. Votos no Candidato 39\n",
        "c. Votos no Candidato 66\n",
        "d. Voto em branco (0)\n",
        "e. Votos nulos (nenhuma das opções anteriores)\n",
        "f. Votos válidos (aqueles computados para algum candidato)\n",
        "g. Votos não válidos"
      ],
      "metadata": {
        "id": "BQP8w9WRmyx0"
      }
    },
    {
      "cell_type": "code",
      "source": [
        "# Algoritmo de uma urna eletrônica - exemplo\n",
        "\n",
        "# constantes\n",
        "cand1 = \"77\"\n",
        "cand2 = \"39\"\n",
        "cand3 = \"66\"\n",
        "branco = \"0\"\n",
        "sair = \"4444444\"\n",
        "\n",
        "# variaveis\n",
        "voto = \"\"\n",
        "\n",
        "# contadores votos\n",
        "cnt_votos_nulos = 0\n",
        "cnt_votos_invalidos = 0\n",
        "\n",
        "cnt_cand1 = 0\n",
        "cnt_cand2 = 0\n",
        "cnt_cand3 = 0\n",
        "cnt_cand_123 = 0\n",
        "cnt_branco = 0\n",
        "\n",
        "# laço de votação\n",
        "while voto != sair:\n",
        "  print(\"Urna eletrônica!\")\n",
        "  print(\"Vote\", cand1, \"para o Candidato\", cand1)\n",
        "  print(\"Vote\", cand2, \"para o Candidato\", cand2)\n",
        "  print(\"Vote\", cand3, \"para o Candidato\", cand3)\n",
        "\n",
        "  voto = input(\"Digite o seu voto:\")\n",
        "\n",
        "  if voto == cand1:\n",
        "    cnt_cand1 += 1\n",
        "  elif voto == cand2:\n",
        "    cnt_cand2 += 1\n",
        "  elif voto == cand3:\n",
        "    cnt_cand3 += 1\n",
        "  elif voto == branco:\n",
        "    cnt_branco += 1\n",
        "  elif voto == \"\":\n",
        "    cnt_votos_invalidos += 1\n",
        "  else:\n",
        "    if voto != sair:\n",
        "       cnt_votos_nulos += 1\n",
        "\n",
        "votos_validos = cnt_cand1 + cnt_cand2 + cnt_cand3 + cnt_branco\n",
        "votos_totais = votos_validos + cnt_votos_invalidos\n",
        "print('#' *20)\n",
        "print(\"Resultados da votação!\")\n",
        "print(\"Votos totais:\", votos_totais)\n",
        "print(\"Votos Válidos\", votos_validos)\n",
        "print(\"Votos Inválidos\", cnt_votos_invalidos)\n",
        "print('-' * 20)\n",
        "print(\"O candidato\", cand1, \"obteve\", round((cnt_cand1/votos_validos)*100, 2), \"% dos votos\")\n",
        "print(\"O candidato\", cand2, \"obteve\", round((cnt_cand2/votos_validos)*100, 2), \"% dos votos\")\n",
        "print(\"O candidato\", cand3, \"obteve\", round((cnt_cand3/votos_validos)*100, 2), \"% dos votos\")"
      ],
      "metadata": {
        "colab": {
          "base_uri": "https://localhost:8080/",
          "height": 315
        },
        "collapsed": true,
        "id": "B-kFS3vCm4pM",
        "outputId": "f00380dc-0bf4-49ba-91e4-770b4b8ddf93"
      },
      "execution_count": null,
      "outputs": [
        {
          "name": "stdout",
          "output_type": "stream",
          "text": [
            "Opções de candidato:\n",
            "Candidato - 77\n",
            "Candidato - 39\n",
            "Candidato - 66\n",
            "Voto em branco - 0\n",
            "Digite o numero do seu candidato: \n"
          ]
        },
        {
          "output_type": "error",
          "ename": "ValueError",
          "evalue": "invalid literal for int() with base 10: ''",
          "traceback": [
            "\u001b[0;31m---------------------------------------------------------------------------\u001b[0m",
            "\u001b[0;31mValueError\u001b[0m                                Traceback (most recent call last)",
            "\u001b[0;32m<ipython-input-15-c2c58bb557cc>\u001b[0m in \u001b[0;36m<cell line: 0>\u001b[0;34m()\u001b[0m\n\u001b[1;32m     13\u001b[0m   \u001b[0mprint\u001b[0m\u001b[0;34m(\u001b[0m\u001b[0;34m\"Candidato - 66\"\u001b[0m\u001b[0;34m)\u001b[0m\u001b[0;34m\u001b[0m\u001b[0;34m\u001b[0m\u001b[0m\n\u001b[1;32m     14\u001b[0m   \u001b[0mprint\u001b[0m\u001b[0;34m(\u001b[0m\u001b[0;34m\"Voto em branco - 0\"\u001b[0m\u001b[0;34m)\u001b[0m\u001b[0;34m\u001b[0m\u001b[0;34m\u001b[0m\u001b[0m\n\u001b[0;32m---> 15\u001b[0;31m   \u001b[0mx\u001b[0m \u001b[0;34m=\u001b[0m \u001b[0mint\u001b[0m\u001b[0;34m(\u001b[0m\u001b[0minput\u001b[0m\u001b[0;34m(\u001b[0m\u001b[0;34m\"Digite o numero do seu candidato: \"\u001b[0m\u001b[0;34m)\u001b[0m\u001b[0;34m)\u001b[0m\u001b[0;34m\u001b[0m\u001b[0;34m\u001b[0m\u001b[0m\n\u001b[0m\u001b[1;32m     16\u001b[0m   \u001b[0;32mif\u001b[0m\u001b[0;34m(\u001b[0m\u001b[0mx\u001b[0m \u001b[0;34m==\u001b[0m \u001b[0;36m77\u001b[0m\u001b[0;34m)\u001b[0m\u001b[0;34m:\u001b[0m\u001b[0;34m\u001b[0m\u001b[0;34m\u001b[0m\u001b[0m\n\u001b[1;32m     17\u001b[0m     \u001b[0mcand77\u001b[0m \u001b[0;34m+=\u001b[0m\u001b[0;36m1\u001b[0m\u001b[0;34m\u001b[0m\u001b[0;34m\u001b[0m\u001b[0m\n",
            "\u001b[0;31mValueError\u001b[0m: invalid literal for int() with base 10: ''"
          ]
        }
      ]
    }
  ]
}