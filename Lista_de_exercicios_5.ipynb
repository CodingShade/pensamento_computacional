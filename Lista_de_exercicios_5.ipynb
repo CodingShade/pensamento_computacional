{
  "nbformat": 4,
  "nbformat_minor": 0,
  "metadata": {
    "colab": {
      "provenance": [],
      "authorship_tag": "ABX9TyO1K8NPExbmHIHJzCZ5iWuP"
    },
    "kernelspec": {
      "name": "python3",
      "display_name": "Python 3"
    },
    "language_info": {
      "name": "python"
    }
  },
  "cells": [
    {
      "cell_type": "markdown",
      "source": [
        "Exercícios com Listas em Python\n",
        "\n",
        "Os exercícios abordam diferentes aspectos como leitura, verificação, filtragem e\n",
        "processamento de dados."
      ],
      "metadata": {
        "id": "R9GHhVIWpb0I"
      }
    },
    {
      "cell_type": "code",
      "execution_count": 2,
      "metadata": {
        "colab": {
          "base_uri": "https://localhost:8080/"
        },
        "id": "41w0QR9uoXRv",
        "outputId": "9277e71a-53b9-4f23-be90-47e72ae5791a"
      },
      "outputs": [
        {
          "output_type": "stream",
          "name": "stdout",
          "text": [
            "['Rogério', 'Amanda', 'Luiz', 'Juliana', 'Carlos']\n"
          ]
        }
      ],
      "source": [
        "nomes = [\"Rogério\", \"Amanda\",\"Luiz\", \"Juliana\", \"Carlos\"]\n",
        "print(nomes)"
      ]
    },
    {
      "cell_type": "markdown",
      "source": [
        "Exercício 2 – Lista com Quantidade Informada"
      ],
      "metadata": {
        "id": "-1bGuG57qQCj"
      }
    },
    {
      "cell_type": "code",
      "source": [
        "x = int(input(\"Quantos nomes você ira informar?\"))\n",
        "lista = []\n",
        "for i in range(x):\n",
        "  nomes = input(\"Digite o nome:\")\n",
        "  lista.append(nomes)\n",
        "print(lista)"
      ],
      "metadata": {
        "colab": {
          "base_uri": "https://localhost:8080/"
        },
        "id": "3p3r3SXtqTbh",
        "outputId": "39c96945-cd01-4cdc-da0c-eb50993a9473"
      },
      "execution_count": 7,
      "outputs": [
        {
          "output_type": "stream",
          "name": "stdout",
          "text": [
            "Quantos nomes você ira informar?3\n",
            "Digite o nome:Thomas\n",
            "Digite o nome:Elton\n",
            "Digite o nome:Bettina\n",
            "['Thomas', 'Elton', 'Bettina']\n"
          ]
        }
      ]
    },
    {
      "cell_type": "markdown",
      "source": [
        "Exercício 3 – Times de Futebol"
      ],
      "metadata": {
        "id": "lhscntudtF1F"
      }
    },
    {
      "cell_type": "code",
      "source": [
        "x = int(input(\"Quantos nomes de times você ira informar?\"))\n",
        "\n",
        "lista = []\n",
        "for i in range(x):\n",
        "  nomes = input(\"Digite o nome do time:\")\n",
        "  lista.append(nomes)\n",
        "print(lista[0], \"primerio\")\n",
        "print(lista[-1], \"ultimo\")\n",
        "if(x % 2 == 0):\n",
        "  print(lista[x //2], \"meio\")\n",
        "  print(lista[x //2 -1], \"meio\")"
      ],
      "metadata": {
        "colab": {
          "base_uri": "https://localhost:8080/"
        },
        "id": "Ek3Srp9ntIo7",
        "outputId": "e3799b46-8ad5-4f4c-de6a-9c3d849baad1"
      },
      "execution_count": 17,
      "outputs": [
        {
          "output_type": "stream",
          "name": "stdout",
          "text": [
            "Quantos nomes de times você ira informar?4\n",
            "Digite o nome do time:a\n",
            "Digite o nome do time:b\n",
            "Digite o nome do time:c\n",
            "Digite o nome do time:d\n",
            "a primerio\n",
            "d ultimo\n",
            "c meio\n",
            "b meio\n"
          ]
        }
      ]
    },
    {
      "cell_type": "markdown",
      "source": [
        "Exercício 4 – Exibir Números (Ordem Normal)"
      ],
      "metadata": {
        "id": "vklEjl4qzVMG"
      }
    },
    {
      "cell_type": "code",
      "source": [
        "lista = [1, 2, 3, 4, 5, 6]\n",
        "print(lista)\n",
        "\n"
      ],
      "metadata": {
        "colab": {
          "base_uri": "https://localhost:8080/"
        },
        "id": "pYix-dmZzaUf",
        "outputId": "d6f72004-5720-4942-ff0c-ba64919ab3dc"
      },
      "execution_count": 18,
      "outputs": [
        {
          "output_type": "stream",
          "name": "stdout",
          "text": [
            "[1, 2, 3, 4, 5, 6]\n"
          ]
        }
      ]
    },
    {
      "cell_type": "markdown",
      "source": [
        "Exercício 5 – Exibir Números (Ordem Inversa)"
      ],
      "metadata": {
        "id": "N8NL_ji7z6I2"
      }
    },
    {
      "cell_type": "code",
      "source": [
        "lista = [1, 2, 3, 4, 5, 6]\n",
        "lista.reverse()\n",
        "print(lista)"
      ],
      "metadata": {
        "colab": {
          "base_uri": "https://localhost:8080/"
        },
        "id": "pnSBk0bIz9wv",
        "outputId": "a6264e12-e604-4315-f52b-e765210ade46"
      },
      "execution_count": 20,
      "outputs": [
        {
          "output_type": "stream",
          "name": "stdout",
          "text": [
            "[6, 5, 4, 3, 2, 1]\n"
          ]
        }
      ]
    },
    {
      "cell_type": "markdown",
      "source": [
        "Exercício 6 – Exibir Números Pulando de 2 em 2"
      ],
      "metadata": {
        "id": "rNZX6RNm0YmV"
      }
    },
    {
      "cell_type": "code",
      "source": [
        "lista = [1, 2, 3, 4, 5, 6, 7, 8, 9, 10]\n",
        "print(lista[0:len(lista):3])"
      ],
      "metadata": {
        "colab": {
          "base_uri": "https://localhost:8080/"
        },
        "id": "W2kjVhkQ0ZT0",
        "outputId": "36e70e5b-cee1-4f60-e230-c80a2fc5ac4a"
      },
      "execution_count": 22,
      "outputs": [
        {
          "output_type": "stream",
          "name": "stdout",
          "text": [
            "[1, 4, 7, 10]\n"
          ]
        }
      ]
    },
    {
      "cell_type": "markdown",
      "source": [
        "Exercício 7 – Exibir Números Inversos Pulando de 3 em 3"
      ],
      "metadata": {
        "id": "_D7eeFat09WX"
      }
    },
    {
      "cell_type": "code",
      "source": [
        "lista = [1, 2, 3, 4, 5, 6, 7, 8, 9, 10]\n",
        "lista.reverse()\n",
        "print(lista[0:len(lista):4])"
      ],
      "metadata": {
        "colab": {
          "base_uri": "https://localhost:8080/"
        },
        "id": "9HuOwl6S09-H",
        "outputId": "b9dba9e5-8128-4a13-fbc5-ba4c5a55f49b"
      },
      "execution_count": 23,
      "outputs": [
        {
          "output_type": "stream",
          "name": "stdout",
          "text": [
            "[10, 6, 2]\n"
          ]
        }
      ]
    },
    {
      "cell_type": "markdown",
      "source": [
        "Exercício 8 – Exibir a Partir do Meio"
      ],
      "metadata": {
        "id": "tUmOHTZ61MFb"
      }
    },
    {
      "cell_type": "code",
      "source": [
        "\n",
        "qtd = int(input(\"Quantos números você quer inserir? \"))\n",
        "\n",
        "numeros = []\n",
        "for i in range(qtd):\n",
        "    num = int(input(f\"Digite o número {i+1}: \"))\n",
        "    numeros.append(num)\n",
        "\n",
        "\n",
        "print(\"\\nLista completa:\", numeros)\n",
        "\n",
        "\n",
        "meio = qtd // 2\n",
        "\n",
        "print(\"\\n--- Do meio ao primeiro ---\")\n",
        "if qtd % 2 == 0:\n",
        "    print(\"Primeiro elemento central:\", numeros[meio - 1])\n",
        "    print(\"Segundo elemento central:\", numeros[meio])\n",
        "    for i in range(meio, -1, -1):\n",
        "        print(numeros[i])\n",
        "else:\n",
        "    print(\"Elemento central:\", numeros[meio])\n",
        "    for i in range(meio, -1, -1):\n",
        "        print(numeros[i])\n",
        "\n",
        "print(\"\\n--- Do meio ao último ---\")\n",
        "if qtd % 2 == 0:\n",
        "    for i in range(meio - 1, qtd):\n",
        "        print(numeros[i])\n",
        "else:\n",
        "    for i in range(meio, qtd):\n",
        "        print(numeros[i])\n"
      ],
      "metadata": {
        "id": "hssNi0ll1NMB"
      },
      "execution_count": null,
      "outputs": []
    },
    {
      "cell_type": "markdown",
      "source": [
        "Exercício 9 – Filtrar Salários"
      ],
      "metadata": {
        "id": "aJABYb237Gpb"
      }
    },
    {
      "cell_type": "code",
      "source": [
        "sal = [5, 3500.0, 1400.0, 900.2, 1900.2, 899.0]\n",
        "def meu_filtro(n):\n",
        "  return n >= 1412.0\n",
        "\n",
        "filtro = filter(meu_filtro, sal)\n",
        "print(list(filtro))"
      ],
      "metadata": {
        "colab": {
          "base_uri": "https://localhost:8080/"
        },
        "id": "TV7gKirU7HXc",
        "outputId": "626edf84-115a-4239-8533-379d04849f79"
      },
      "execution_count": 37,
      "outputs": [
        {
          "output_type": "stream",
          "name": "stdout",
          "text": [
            "[3500.0, 1900.2]\n"
          ]
        }
      ]
    },
    {
      "cell_type": "markdown",
      "source": [
        "Exercício 10 – Notas dos Alunos (Separar Aprovação)"
      ],
      "metadata": {
        "id": "muFCUpCU8uxP"
      }
    },
    {
      "cell_type": "code",
      "source": [
        "notas = [10, 9.0, 7.0, 7.5, 6.5, 8.0, 5.9, 7.2, 6.9, 10, 8.5]\n",
        "\n",
        "def aprovacao(n):\n",
        "  return n >= 7.0\n",
        "def reprovacao(n):\n",
        "  return n < 7.0\n",
        "\n",
        "aprovados = filter(aprovacao, notas)\n",
        "print(list(aprovados))\n",
        "reprovados = filter(reprovacao, notas)\n",
        "print(list(reprovados))"
      ],
      "metadata": {
        "colab": {
          "base_uri": "https://localhost:8080/"
        },
        "id": "EZ6TSR7-8vjQ",
        "outputId": "af83cc8a-cfc5-42f5-b99e-1be40ef4657b"
      },
      "execution_count": 38,
      "outputs": [
        {
          "output_type": "stream",
          "name": "stdout",
          "text": [
            "[10, 9.0, 7.0, 7.5, 8.0, 7.2, 10, 8.5]\n",
            "[6.5, 5.9, 6.9]\n"
          ]
        }
      ]
    },
    {
      "cell_type": "markdown",
      "source": [
        "Exercício 11 – Soma de 12 Salários"
      ],
      "metadata": {
        "id": "fZWnbLTf9xLR"
      }
    },
    {
      "cell_type": "code",
      "source": [
        "salarios = [1900.0, 1850.0, 1900.0, 2100.0, 1900.0, 1800.0, 2000.0, 1900.0, 2100.0, 2200.0, 1800.0, 2300.0]\n",
        "print(sum(salarios))"
      ],
      "metadata": {
        "colab": {
          "base_uri": "https://localhost:8080/"
        },
        "id": "twr3Vhpx9yEw",
        "outputId": "ace8c535-65ae-436a-e3ec-37c34efb04d7"
      },
      "execution_count": 39,
      "outputs": [
        {
          "output_type": "stream",
          "name": "stdout",
          "text": [
            "23750.0\n"
          ]
        }
      ]
    },
    {
      "cell_type": "markdown",
      "source": [
        "Exercício 12 – Média de Notas"
      ],
      "metadata": {
        "id": "0ax5VysEDBfh"
      }
    },
    {
      "cell_type": "code",
      "source": [
        "from statistics import mean\n",
        "\n",
        "notas = [6, 9.0, 7.0, 7.5, 6.5, 8.0, 5.9]\n",
        "\n",
        "media = mean(notas)\n",
        "print(f\"A média das notas é: {media:.2f}\")"
      ],
      "metadata": {
        "colab": {
          "base_uri": "https://localhost:8080/"
        },
        "id": "rYuUYrw8EaSH",
        "outputId": "ccc7ae88-96bb-4a4b-d2e4-c37681e1e387"
      },
      "execution_count": 50,
      "outputs": [
        {
          "output_type": "stream",
          "name": "stdout",
          "text": [
            "A média das notas é: 7.13\n"
          ]
        }
      ]
    },
    {
      "cell_type": "markdown",
      "source": [
        "Exercício 13 – Contagem de Notas Acima e Abaixo da\n",
        "Média"
      ],
      "metadata": {
        "id": "l4lQrP5MFxdS"
      }
    },
    {
      "cell_type": "code",
      "source": [
        "notas = [6, 9.0, 7.0, 7.5, 6.5, 8.0, 5.9]\n",
        "\n",
        "def aprovacao(n):\n",
        "  return n >= 7.0\n",
        "def reprovacao(n):\n",
        "  return n < 7.0\n",
        "\n",
        "aprovados = filter(aprovacao, notas)\n",
        "reprovados = filter(reprovacao, notas)\n",
        "print(f\"Alcançaram a media: {len(list(aprovados))}\")\n",
        "print(f\"Não alcançaram a media: {len(list(reprovados))}\")\n"
      ],
      "metadata": {
        "colab": {
          "base_uri": "https://localhost:8080/"
        },
        "id": "oQQsLTwIF2r5",
        "outputId": "37ce6a7d-fce1-464e-9d9e-6d8974486392"
      },
      "execution_count": 58,
      "outputs": [
        {
          "output_type": "stream",
          "name": "stdout",
          "text": [
            "Alcançaram a media: 4\n",
            "Não alcançaram a media: 3\n"
          ]
        }
      ]
    },
    {
      "cell_type": "markdown",
      "source": [
        "Exercício 14 – Classificação de Idades"
      ],
      "metadata": {
        "id": "ZOBfxMvtI6yy"
      }
    },
    {
      "cell_type": "code",
      "source": [
        "idades = [10, 45, 17, 34, 21, 15, 4, 11, 29, 12, 21]\n",
        "\n",
        "def crianca(i):\n",
        "  return i <= 11\n",
        "def adolescente(i):\n",
        "  return 12 <= i <= 17\n",
        "def adulto(i):\n",
        "  return i >= 18\n",
        "\n",
        "criancas = filter(crianca, idades)\n",
        "adolescentes = filter(adolescente, idades)\n",
        "adultos = filter(adulto, idades)\n",
        "\n",
        "print(f\"Crianças: {len(list(criancas))}\")\n",
        "print(f\"Adolescentes: {len(list(adolescentes))}\")\n",
        "print(f\"Adultos: {len(list(adultos))}\")\n",
        "\n"
      ],
      "metadata": {
        "colab": {
          "base_uri": "https://localhost:8080/"
        },
        "id": "aNs1mX79I-Yo",
        "outputId": "0e68b613-1915-40eb-fc1c-632c51dd647c"
      },
      "execution_count": 62,
      "outputs": [
        {
          "output_type": "stream",
          "name": "stdout",
          "text": [
            "Crianças: 3\n",
            "Adolescentes: 3\n",
            "Adultos: 5\n"
          ]
        }
      ]
    },
    {
      "cell_type": "markdown",
      "source": [
        "Exercício 15 – Média de Idades por Grupo"
      ],
      "metadata": {
        "id": "XEqRNIoWLpsz"
      }
    },
    {
      "cell_type": "code",
      "source": [
        "from statistics import mean\n",
        "\n",
        "idades = [10, 45, 17, 34, 21, 15, 4, 11, 29, 12, 21]\n",
        "\n",
        "def crianca(i):\n",
        "  return i <= 11\n",
        "def adolescente(i):\n",
        "  return 12 <= i <= 17\n",
        "def adulto(i):\n",
        "  return i >= 18\n",
        "\n",
        "criancas = filter(crianca, idades)\n",
        "adolescentes = filter(adolescente, idades)\n",
        "adultos = filter(adulto, idades)\n",
        "\n",
        "criancas = list(filter(crianca, idades))\n",
        "adolescentes = list(filter(adolescente, idades))\n",
        "adultos = list(filter(adulto, idades))\n",
        "\n",
        "print(f\"Crianças: {len(list(criancas))}, media: {mean(criancas):.2f}\")\n",
        "print(f\"Adolescentes: {len(list(adolescentes))}, media: {mean(adolescentes):.2f}\")\n",
        "print(f\"Adultos: {len(list(adultos))}, media: {mean(adultos):.2f}\")\n",
        "\n"
      ],
      "metadata": {
        "colab": {
          "base_uri": "https://localhost:8080/"
        },
        "id": "sD6psRgALr3b",
        "outputId": "f6c100b3-441b-4197-943b-2e6c7d8b567f"
      },
      "execution_count": 65,
      "outputs": [
        {
          "output_type": "stream",
          "name": "stdout",
          "text": [
            "Crianças: 3, media: 8.33\n",
            "Adolescentes: 3, media: 14.67\n",
            "Adultos: 5, media: 30.00\n"
          ]
        }
      ]
    },
    {
      "cell_type": "markdown",
      "source": [
        "Exercício 16 – Contar Números Primos"
      ],
      "metadata": {
        "id": "xa4KKSp0M-W_"
      }
    },
    {
      "cell_type": "code",
      "source": [
        "def eh_primo(n):\n",
        "    if n < 2:\n",
        "        return False\n",
        "    for i in range(2, int(n**0.5)+1):\n",
        "        if n % i == 0:\n",
        "            return False\n",
        "    return True\n",
        "\n",
        "numeros = [10, 45, 17, 34, 21, 15, 4, 11, 29, 12, 21]\n",
        "\n",
        "primos = list(filter(eh_primo, numeros))\n",
        "\n",
        "print(f'Números primos encontrados: {primos}')\n",
        "print(f'Quantidade de números primos: {len(primos)}')\n"
      ],
      "metadata": {
        "colab": {
          "base_uri": "https://localhost:8080/"
        },
        "id": "Bsae0v4sNF2w",
        "outputId": "a79e22a5-021d-4746-e5a9-d0f6b5b7061a"
      },
      "execution_count": 66,
      "outputs": [
        {
          "output_type": "stream",
          "name": "stdout",
          "text": [
            "Números primos encontrados: [17, 11, 29]\n",
            "Quantidade de números primos: 3\n"
          ]
        }
      ]
    }
  ]
}